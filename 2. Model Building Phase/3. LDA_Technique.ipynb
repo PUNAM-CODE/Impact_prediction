{
  "nbformat": 4,
  "nbformat_minor": 0,
  "metadata": {
    "colab": {
      "name": "LDA Technique",
      "provenance": [],
      "collapsed_sections": [
        "M5zZQtwKJAv-",
        "tT_jaU-kltnz"
      ]
    },
    "kernelspec": {
      "name": "python3",
      "display_name": "Python 3"
    },
    "accelerator": "GPU"
  },
  "cells": [
    {
      "cell_type": "markdown",
      "metadata": {
        "id": "bii9g5Sji3m7",
        "colab_type": "text"
      },
      "source": [
        "# Data Importing And Cleaning"
      ]
    },
    {
      "cell_type": "code",
      "metadata": {
        "id": "VmD3ADrBEvSs",
        "colab_type": "code",
        "colab": {
          "base_uri": "https://localhost:8080/",
          "height": 34
        },
        "outputId": "dceea37a-c201-47d6-a894-3528a7817d7a"
      },
      "source": [
        "from google.colab import drive\n",
        "drive.mount('/content/gdrive')"
      ],
      "execution_count": 1,
      "outputs": [
        {
          "output_type": "stream",
          "text": [
            "Mounted at /content/gdrive\n"
          ],
          "name": "stdout"
        }
      ]
    },
    {
      "cell_type": "code",
      "metadata": {
        "id": "PJhXpymAE4Iv",
        "colab_type": "code",
        "colab": {
          "base_uri": "https://localhost:8080/",
          "height": 34
        },
        "outputId": "08dc4d51-6a76-407f-9a18-211ca867f0b5"
      },
      "source": [
        "import pandas as pd\n",
        "df = pd.read_excel('/content/gdrive/My Drive/Colab Notebooks/Datasets/Incidents_service.xlsx')\n",
        "df.shape"
      ],
      "execution_count": 2,
      "outputs": [
        {
          "output_type": "execute_result",
          "data": {
            "text/plain": [
              "(141712, 25)"
            ]
          },
          "metadata": {
            "tags": []
          },
          "execution_count": 2
        }
      ]
    },
    {
      "cell_type": "code",
      "metadata": {
        "id": "rd3hErpaFGa7",
        "colab_type": "code",
        "colab": {}
      },
      "source": [
        "import numpy as np\n",
        "import warnings\n",
        "warnings.filterwarnings(\"ignore\")"
      ],
      "execution_count": 3,
      "outputs": []
    },
    {
      "cell_type": "markdown",
      "metadata": {
        "id": "_X-jTD93jGi1",
        "colab_type": "text"
      },
      "source": [
        "## 1.Feature Selection"
      ]
    },
    {
      "cell_type": "code",
      "metadata": {
        "id": "n0AgMMjVFOOo",
        "colab_type": "code",
        "colab": {
          "base_uri": "https://localhost:8080/",
          "height": 34
        },
        "outputId": "7f5c76ef-0487-4bf1-c0cf-76a5d3d98e02"
      },
      "source": [
        "df_new = df[[ 'count_updated', 'opened_by', 'Support_group', 'category_ID', 'ID_status','Created_by', 'active', 'impact']]\n",
        "df_new.shape"
      ],
      "execution_count": 4,
      "outputs": [
        {
          "output_type": "execute_result",
          "data": {
            "text/plain": [
              "(141712, 8)"
            ]
          },
          "metadata": {
            "tags": []
          },
          "execution_count": 4
        }
      ]
    },
    {
      "cell_type": "code",
      "metadata": {
        "id": "VzO4MeGcFTqc",
        "colab_type": "code",
        "colab": {
          "base_uri": "https://localhost:8080/",
          "height": 170
        },
        "outputId": "5e5f9434-93f3-42a2-8282-43904381a2da"
      },
      "source": [
        "df_new = df_new[df_new.ID_status != -100]\n",
        "df_new.ID_status.value_counts()"
      ],
      "execution_count": 5,
      "outputs": [
        {
          "output_type": "execute_result",
          "data": {
            "text/plain": [
              "Active                38716\n",
              "New                   36407\n",
              "Resolved              25751\n",
              "Closed                24985\n",
              "Awaiting User Info    14642\n",
              "Awaiting Vendor         707\n",
              "Awaiting Problem        461\n",
              "Awaiting Evidence        38\n",
              "Name: ID_status, dtype: int64"
            ]
          },
          "metadata": {
            "tags": []
          },
          "execution_count": 5
        }
      ]
    },
    {
      "cell_type": "code",
      "metadata": {
        "id": "cvTBIMs7FUt2",
        "colab_type": "code",
        "colab": {
          "base_uri": "https://localhost:8080/",
          "height": 372
        },
        "outputId": "8694ac36-a72f-4ed9-b7ff-bbfa9166b659"
      },
      "source": [
        "df_new = pd.get_dummies(df_new, columns=['Support_group','category_ID','ID_status','opened_by','Created_by', 'active'], drop_first=True)\n",
        "print(df_new.shape)\n",
        "df_new.head()"
      ],
      "execution_count": 6,
      "outputs": [
        {
          "output_type": "stream",
          "text": [
            "(141707, 534)\n"
          ],
          "name": "stdout"
        },
        {
          "output_type": "execute_result",
          "data": {
            "text/html": [
              "<div>\n",
              "<style scoped>\n",
              "    .dataframe tbody tr th:only-of-type {\n",
              "        vertical-align: middle;\n",
              "    }\n",
              "\n",
              "    .dataframe tbody tr th {\n",
              "        vertical-align: top;\n",
              "    }\n",
              "\n",
              "    .dataframe thead th {\n",
              "        text-align: right;\n",
              "    }\n",
              "</style>\n",
              "<table border=\"1\" class=\"dataframe\">\n",
              "  <thead>\n",
              "    <tr style=\"text-align: right;\">\n",
              "      <th></th>\n",
              "      <th>count_updated</th>\n",
              "      <th>impact</th>\n",
              "      <th>Support_group_Group 11</th>\n",
              "      <th>Support_group_Group 12</th>\n",
              "      <th>Support_group_Group 13</th>\n",
              "      <th>Support_group_Group 14</th>\n",
              "      <th>Support_group_Group 15</th>\n",
              "      <th>Support_group_Group 16</th>\n",
              "      <th>Support_group_Group 17</th>\n",
              "      <th>Support_group_Group 18</th>\n",
              "      <th>Support_group_Group 19</th>\n",
              "      <th>Support_group_Group 2</th>\n",
              "      <th>Support_group_Group 20</th>\n",
              "      <th>Support_group_Group 21</th>\n",
              "      <th>Support_group_Group 22</th>\n",
              "      <th>Support_group_Group 23</th>\n",
              "      <th>Support_group_Group 24</th>\n",
              "      <th>Support_group_Group 25</th>\n",
              "      <th>Support_group_Group 26</th>\n",
              "      <th>Support_group_Group 27</th>\n",
              "      <th>Support_group_Group 28</th>\n",
              "      <th>Support_group_Group 29</th>\n",
              "      <th>Support_group_Group 3</th>\n",
              "      <th>Support_group_Group 30</th>\n",
              "      <th>Support_group_Group 31</th>\n",
              "      <th>Support_group_Group 32</th>\n",
              "      <th>Support_group_Group 33</th>\n",
              "      <th>Support_group_Group 34</th>\n",
              "      <th>Support_group_Group 35</th>\n",
              "      <th>Support_group_Group 36</th>\n",
              "      <th>Support_group_Group 37</th>\n",
              "      <th>Support_group_Group 38</th>\n",
              "      <th>Support_group_Group 39</th>\n",
              "      <th>Support_group_Group 4</th>\n",
              "      <th>Support_group_Group 41</th>\n",
              "      <th>Support_group_Group 43</th>\n",
              "      <th>Support_group_Group 44</th>\n",
              "      <th>Support_group_Group 45</th>\n",
              "      <th>Support_group_Group 46</th>\n",
              "      <th>Support_group_Group 47</th>\n",
              "      <th>...</th>\n",
              "      <th>Created_by_Created by 55</th>\n",
              "      <th>Created_by_Created by 56</th>\n",
              "      <th>Created_by_Created by 57</th>\n",
              "      <th>Created_by_Created by 58</th>\n",
              "      <th>Created_by_Created by 59</th>\n",
              "      <th>Created_by_Created by 6</th>\n",
              "      <th>Created_by_Created by 60</th>\n",
              "      <th>Created_by_Created by 61</th>\n",
              "      <th>Created_by_Created by 62</th>\n",
              "      <th>Created_by_Created by 64</th>\n",
              "      <th>Created_by_Created by 65</th>\n",
              "      <th>Created_by_Created by 66</th>\n",
              "      <th>Created_by_Created by 67</th>\n",
              "      <th>Created_by_Created by 68</th>\n",
              "      <th>Created_by_Created by 69</th>\n",
              "      <th>Created_by_Created by 7</th>\n",
              "      <th>Created_by_Created by 70</th>\n",
              "      <th>Created_by_Created by 71</th>\n",
              "      <th>Created_by_Created by 73</th>\n",
              "      <th>Created_by_Created by 74</th>\n",
              "      <th>Created_by_Created by 76</th>\n",
              "      <th>Created_by_Created by 78</th>\n",
              "      <th>Created_by_Created by 79</th>\n",
              "      <th>Created_by_Created by 8</th>\n",
              "      <th>Created_by_Created by 81</th>\n",
              "      <th>Created_by_Created by 82</th>\n",
              "      <th>Created_by_Created by 83</th>\n",
              "      <th>Created_by_Created by 84</th>\n",
              "      <th>Created_by_Created by 85</th>\n",
              "      <th>Created_by_Created by 86</th>\n",
              "      <th>Created_by_Created by 87</th>\n",
              "      <th>Created_by_Created by 88</th>\n",
              "      <th>Created_by_Created by 89</th>\n",
              "      <th>Created_by_Created by 91</th>\n",
              "      <th>Created_by_Created by 92</th>\n",
              "      <th>Created_by_Created by 96</th>\n",
              "      <th>Created_by_Created by 97</th>\n",
              "      <th>Created_by_Created by 98</th>\n",
              "      <th>Created_by_Created by 99</th>\n",
              "      <th>active_True</th>\n",
              "    </tr>\n",
              "  </thead>\n",
              "  <tbody>\n",
              "    <tr>\n",
              "      <th>0</th>\n",
              "      <td>0</td>\n",
              "      <td>2 - Medium</td>\n",
              "      <td>0</td>\n",
              "      <td>0</td>\n",
              "      <td>0</td>\n",
              "      <td>0</td>\n",
              "      <td>0</td>\n",
              "      <td>0</td>\n",
              "      <td>0</td>\n",
              "      <td>0</td>\n",
              "      <td>0</td>\n",
              "      <td>0</td>\n",
              "      <td>0</td>\n",
              "      <td>0</td>\n",
              "      <td>0</td>\n",
              "      <td>0</td>\n",
              "      <td>0</td>\n",
              "      <td>0</td>\n",
              "      <td>0</td>\n",
              "      <td>0</td>\n",
              "      <td>0</td>\n",
              "      <td>0</td>\n",
              "      <td>0</td>\n",
              "      <td>0</td>\n",
              "      <td>0</td>\n",
              "      <td>0</td>\n",
              "      <td>0</td>\n",
              "      <td>0</td>\n",
              "      <td>0</td>\n",
              "      <td>0</td>\n",
              "      <td>0</td>\n",
              "      <td>0</td>\n",
              "      <td>0</td>\n",
              "      <td>0</td>\n",
              "      <td>0</td>\n",
              "      <td>0</td>\n",
              "      <td>0</td>\n",
              "      <td>0</td>\n",
              "      <td>0</td>\n",
              "      <td>0</td>\n",
              "      <td>...</td>\n",
              "      <td>0</td>\n",
              "      <td>0</td>\n",
              "      <td>0</td>\n",
              "      <td>0</td>\n",
              "      <td>0</td>\n",
              "      <td>1</td>\n",
              "      <td>0</td>\n",
              "      <td>0</td>\n",
              "      <td>0</td>\n",
              "      <td>0</td>\n",
              "      <td>0</td>\n",
              "      <td>0</td>\n",
              "      <td>0</td>\n",
              "      <td>0</td>\n",
              "      <td>0</td>\n",
              "      <td>0</td>\n",
              "      <td>0</td>\n",
              "      <td>0</td>\n",
              "      <td>0</td>\n",
              "      <td>0</td>\n",
              "      <td>0</td>\n",
              "      <td>0</td>\n",
              "      <td>0</td>\n",
              "      <td>0</td>\n",
              "      <td>0</td>\n",
              "      <td>0</td>\n",
              "      <td>0</td>\n",
              "      <td>0</td>\n",
              "      <td>0</td>\n",
              "      <td>0</td>\n",
              "      <td>0</td>\n",
              "      <td>0</td>\n",
              "      <td>0</td>\n",
              "      <td>0</td>\n",
              "      <td>0</td>\n",
              "      <td>0</td>\n",
              "      <td>0</td>\n",
              "      <td>0</td>\n",
              "      <td>0</td>\n",
              "      <td>1</td>\n",
              "    </tr>\n",
              "    <tr>\n",
              "      <th>1</th>\n",
              "      <td>3</td>\n",
              "      <td>2 - Medium</td>\n",
              "      <td>0</td>\n",
              "      <td>0</td>\n",
              "      <td>0</td>\n",
              "      <td>0</td>\n",
              "      <td>0</td>\n",
              "      <td>0</td>\n",
              "      <td>0</td>\n",
              "      <td>0</td>\n",
              "      <td>0</td>\n",
              "      <td>0</td>\n",
              "      <td>0</td>\n",
              "      <td>0</td>\n",
              "      <td>0</td>\n",
              "      <td>0</td>\n",
              "      <td>0</td>\n",
              "      <td>0</td>\n",
              "      <td>0</td>\n",
              "      <td>0</td>\n",
              "      <td>0</td>\n",
              "      <td>0</td>\n",
              "      <td>0</td>\n",
              "      <td>0</td>\n",
              "      <td>0</td>\n",
              "      <td>0</td>\n",
              "      <td>0</td>\n",
              "      <td>0</td>\n",
              "      <td>0</td>\n",
              "      <td>0</td>\n",
              "      <td>0</td>\n",
              "      <td>0</td>\n",
              "      <td>0</td>\n",
              "      <td>0</td>\n",
              "      <td>0</td>\n",
              "      <td>0</td>\n",
              "      <td>0</td>\n",
              "      <td>0</td>\n",
              "      <td>0</td>\n",
              "      <td>0</td>\n",
              "      <td>...</td>\n",
              "      <td>0</td>\n",
              "      <td>0</td>\n",
              "      <td>0</td>\n",
              "      <td>0</td>\n",
              "      <td>0</td>\n",
              "      <td>1</td>\n",
              "      <td>0</td>\n",
              "      <td>0</td>\n",
              "      <td>0</td>\n",
              "      <td>0</td>\n",
              "      <td>0</td>\n",
              "      <td>0</td>\n",
              "      <td>0</td>\n",
              "      <td>0</td>\n",
              "      <td>0</td>\n",
              "      <td>0</td>\n",
              "      <td>0</td>\n",
              "      <td>0</td>\n",
              "      <td>0</td>\n",
              "      <td>0</td>\n",
              "      <td>0</td>\n",
              "      <td>0</td>\n",
              "      <td>0</td>\n",
              "      <td>0</td>\n",
              "      <td>0</td>\n",
              "      <td>0</td>\n",
              "      <td>0</td>\n",
              "      <td>0</td>\n",
              "      <td>0</td>\n",
              "      <td>0</td>\n",
              "      <td>0</td>\n",
              "      <td>0</td>\n",
              "      <td>0</td>\n",
              "      <td>0</td>\n",
              "      <td>0</td>\n",
              "      <td>0</td>\n",
              "      <td>0</td>\n",
              "      <td>0</td>\n",
              "      <td>0</td>\n",
              "      <td>1</td>\n",
              "    </tr>\n",
              "    <tr>\n",
              "      <th>2</th>\n",
              "      <td>4</td>\n",
              "      <td>2 - Medium</td>\n",
              "      <td>0</td>\n",
              "      <td>0</td>\n",
              "      <td>0</td>\n",
              "      <td>0</td>\n",
              "      <td>0</td>\n",
              "      <td>0</td>\n",
              "      <td>0</td>\n",
              "      <td>0</td>\n",
              "      <td>0</td>\n",
              "      <td>0</td>\n",
              "      <td>0</td>\n",
              "      <td>0</td>\n",
              "      <td>0</td>\n",
              "      <td>0</td>\n",
              "      <td>0</td>\n",
              "      <td>0</td>\n",
              "      <td>0</td>\n",
              "      <td>0</td>\n",
              "      <td>0</td>\n",
              "      <td>0</td>\n",
              "      <td>0</td>\n",
              "      <td>0</td>\n",
              "      <td>0</td>\n",
              "      <td>0</td>\n",
              "      <td>0</td>\n",
              "      <td>0</td>\n",
              "      <td>0</td>\n",
              "      <td>0</td>\n",
              "      <td>0</td>\n",
              "      <td>0</td>\n",
              "      <td>0</td>\n",
              "      <td>0</td>\n",
              "      <td>0</td>\n",
              "      <td>0</td>\n",
              "      <td>0</td>\n",
              "      <td>0</td>\n",
              "      <td>0</td>\n",
              "      <td>0</td>\n",
              "      <td>...</td>\n",
              "      <td>0</td>\n",
              "      <td>0</td>\n",
              "      <td>0</td>\n",
              "      <td>0</td>\n",
              "      <td>0</td>\n",
              "      <td>1</td>\n",
              "      <td>0</td>\n",
              "      <td>0</td>\n",
              "      <td>0</td>\n",
              "      <td>0</td>\n",
              "      <td>0</td>\n",
              "      <td>0</td>\n",
              "      <td>0</td>\n",
              "      <td>0</td>\n",
              "      <td>0</td>\n",
              "      <td>0</td>\n",
              "      <td>0</td>\n",
              "      <td>0</td>\n",
              "      <td>0</td>\n",
              "      <td>0</td>\n",
              "      <td>0</td>\n",
              "      <td>0</td>\n",
              "      <td>0</td>\n",
              "      <td>0</td>\n",
              "      <td>0</td>\n",
              "      <td>0</td>\n",
              "      <td>0</td>\n",
              "      <td>0</td>\n",
              "      <td>0</td>\n",
              "      <td>0</td>\n",
              "      <td>0</td>\n",
              "      <td>0</td>\n",
              "      <td>0</td>\n",
              "      <td>0</td>\n",
              "      <td>0</td>\n",
              "      <td>0</td>\n",
              "      <td>0</td>\n",
              "      <td>0</td>\n",
              "      <td>0</td>\n",
              "      <td>0</td>\n",
              "    </tr>\n",
              "    <tr>\n",
              "      <th>3</th>\n",
              "      <td>1</td>\n",
              "      <td>2 - Medium</td>\n",
              "      <td>0</td>\n",
              "      <td>0</td>\n",
              "      <td>0</td>\n",
              "      <td>0</td>\n",
              "      <td>0</td>\n",
              "      <td>0</td>\n",
              "      <td>0</td>\n",
              "      <td>0</td>\n",
              "      <td>0</td>\n",
              "      <td>0</td>\n",
              "      <td>0</td>\n",
              "      <td>0</td>\n",
              "      <td>0</td>\n",
              "      <td>0</td>\n",
              "      <td>1</td>\n",
              "      <td>0</td>\n",
              "      <td>0</td>\n",
              "      <td>0</td>\n",
              "      <td>0</td>\n",
              "      <td>0</td>\n",
              "      <td>0</td>\n",
              "      <td>0</td>\n",
              "      <td>0</td>\n",
              "      <td>0</td>\n",
              "      <td>0</td>\n",
              "      <td>0</td>\n",
              "      <td>0</td>\n",
              "      <td>0</td>\n",
              "      <td>0</td>\n",
              "      <td>0</td>\n",
              "      <td>0</td>\n",
              "      <td>0</td>\n",
              "      <td>0</td>\n",
              "      <td>0</td>\n",
              "      <td>0</td>\n",
              "      <td>0</td>\n",
              "      <td>0</td>\n",
              "      <td>0</td>\n",
              "      <td>...</td>\n",
              "      <td>0</td>\n",
              "      <td>0</td>\n",
              "      <td>0</td>\n",
              "      <td>0</td>\n",
              "      <td>0</td>\n",
              "      <td>0</td>\n",
              "      <td>0</td>\n",
              "      <td>0</td>\n",
              "      <td>0</td>\n",
              "      <td>0</td>\n",
              "      <td>0</td>\n",
              "      <td>0</td>\n",
              "      <td>0</td>\n",
              "      <td>0</td>\n",
              "      <td>0</td>\n",
              "      <td>0</td>\n",
              "      <td>0</td>\n",
              "      <td>0</td>\n",
              "      <td>0</td>\n",
              "      <td>0</td>\n",
              "      <td>0</td>\n",
              "      <td>0</td>\n",
              "      <td>0</td>\n",
              "      <td>0</td>\n",
              "      <td>0</td>\n",
              "      <td>0</td>\n",
              "      <td>0</td>\n",
              "      <td>0</td>\n",
              "      <td>0</td>\n",
              "      <td>0</td>\n",
              "      <td>0</td>\n",
              "      <td>0</td>\n",
              "      <td>0</td>\n",
              "      <td>0</td>\n",
              "      <td>0</td>\n",
              "      <td>0</td>\n",
              "      <td>0</td>\n",
              "      <td>0</td>\n",
              "      <td>0</td>\n",
              "      <td>1</td>\n",
              "    </tr>\n",
              "    <tr>\n",
              "      <th>4</th>\n",
              "      <td>2</td>\n",
              "      <td>2 - Medium</td>\n",
              "      <td>0</td>\n",
              "      <td>0</td>\n",
              "      <td>0</td>\n",
              "      <td>0</td>\n",
              "      <td>0</td>\n",
              "      <td>0</td>\n",
              "      <td>0</td>\n",
              "      <td>0</td>\n",
              "      <td>0</td>\n",
              "      <td>0</td>\n",
              "      <td>0</td>\n",
              "      <td>0</td>\n",
              "      <td>0</td>\n",
              "      <td>0</td>\n",
              "      <td>1</td>\n",
              "      <td>0</td>\n",
              "      <td>0</td>\n",
              "      <td>0</td>\n",
              "      <td>0</td>\n",
              "      <td>0</td>\n",
              "      <td>0</td>\n",
              "      <td>0</td>\n",
              "      <td>0</td>\n",
              "      <td>0</td>\n",
              "      <td>0</td>\n",
              "      <td>0</td>\n",
              "      <td>0</td>\n",
              "      <td>0</td>\n",
              "      <td>0</td>\n",
              "      <td>0</td>\n",
              "      <td>0</td>\n",
              "      <td>0</td>\n",
              "      <td>0</td>\n",
              "      <td>0</td>\n",
              "      <td>0</td>\n",
              "      <td>0</td>\n",
              "      <td>0</td>\n",
              "      <td>0</td>\n",
              "      <td>...</td>\n",
              "      <td>0</td>\n",
              "      <td>0</td>\n",
              "      <td>0</td>\n",
              "      <td>0</td>\n",
              "      <td>0</td>\n",
              "      <td>0</td>\n",
              "      <td>0</td>\n",
              "      <td>0</td>\n",
              "      <td>0</td>\n",
              "      <td>0</td>\n",
              "      <td>0</td>\n",
              "      <td>0</td>\n",
              "      <td>0</td>\n",
              "      <td>0</td>\n",
              "      <td>0</td>\n",
              "      <td>0</td>\n",
              "      <td>0</td>\n",
              "      <td>0</td>\n",
              "      <td>0</td>\n",
              "      <td>0</td>\n",
              "      <td>0</td>\n",
              "      <td>0</td>\n",
              "      <td>0</td>\n",
              "      <td>0</td>\n",
              "      <td>0</td>\n",
              "      <td>0</td>\n",
              "      <td>0</td>\n",
              "      <td>0</td>\n",
              "      <td>0</td>\n",
              "      <td>0</td>\n",
              "      <td>0</td>\n",
              "      <td>0</td>\n",
              "      <td>0</td>\n",
              "      <td>0</td>\n",
              "      <td>0</td>\n",
              "      <td>0</td>\n",
              "      <td>0</td>\n",
              "      <td>0</td>\n",
              "      <td>0</td>\n",
              "      <td>1</td>\n",
              "    </tr>\n",
              "  </tbody>\n",
              "</table>\n",
              "<p>5 rows × 534 columns</p>\n",
              "</div>"
            ],
            "text/plain": [
              "   count_updated      impact  ...  Created_by_Created by 99  active_True\n",
              "0              0  2 - Medium  ...                         0            1\n",
              "1              3  2 - Medium  ...                         0            1\n",
              "2              4  2 - Medium  ...                         0            0\n",
              "3              1  2 - Medium  ...                         0            1\n",
              "4              2  2 - Medium  ...                         0            1\n",
              "\n",
              "[5 rows x 534 columns]"
            ]
          },
          "metadata": {
            "tags": []
          },
          "execution_count": 6
        }
      ]
    },
    {
      "cell_type": "markdown",
      "metadata": {
        "id": "SDLVVUNHjO7s",
        "colab_type": "text"
      },
      "source": [
        "## 2. Scaling"
      ]
    },
    {
      "cell_type": "code",
      "metadata": {
        "id": "FiPSNhB_Fwa2",
        "colab_type": "code",
        "colab": {
          "base_uri": "https://localhost:8080/",
          "height": 153
        },
        "outputId": "d325b850-52f0-4761-c133-6e3d08406a93"
      },
      "source": [
        "from sklearn.preprocessing import MinMaxScaler\n",
        "mx_scaler = MinMaxScaler()\n",
        "final_df2 = mx_scaler.fit_transform(df_new.drop(columns = 'impact'))\n",
        "final_df2 = pd.DataFrame(final_df2, columns=df_new.drop(columns = 'impact').columns)\n",
        "print(final_df2.head())"
      ],
      "execution_count": 7,
      "outputs": [
        {
          "output_type": "stream",
          "text": [
            "   count_updated  Support_group_Group 11  ...  Created_by_Created by 99  active_True\n",
            "0       0.000000                     0.0  ...                       0.0          1.0\n",
            "1       0.023256                     0.0  ...                       0.0          1.0\n",
            "2       0.031008                     0.0  ...                       0.0          0.0\n",
            "3       0.007752                     0.0  ...                       0.0          1.0\n",
            "4       0.015504                     0.0  ...                       0.0          1.0\n",
            "\n",
            "[5 rows x 533 columns]\n"
          ],
          "name": "stdout"
        }
      ]
    },
    {
      "cell_type": "markdown",
      "metadata": {
        "id": "M5zZQtwKJAv-",
        "colab_type": "text"
      },
      "source": [
        "# Train Test Split"
      ]
    },
    {
      "cell_type": "code",
      "metadata": {
        "id": "2IVajfMEJB50",
        "colab_type": "code",
        "colab": {
          "base_uri": "https://localhost:8080/",
          "height": 153
        },
        "outputId": "47e09dca-1f3e-4c00-9adf-b3082d820c68"
      },
      "source": [
        "from sklearn.model_selection import train_test_split\n",
        "X = final_df2\n",
        "y = df_new['impact']\n",
        "X_train, X_test, y_train, y_test = train_test_split(X, y, test_size=0.3, random_state=101, stratify= y)\n",
        "print(y_train.value_counts())\n",
        "print(y_test.value_counts())"
      ],
      "execution_count": 8,
      "outputs": [
        {
          "output_type": "stream",
          "text": [
            "2 - Medium    94030\n",
            "3 - Low        2720\n",
            "1 - High       2444\n",
            "Name: impact, dtype: int64\n",
            "2 - Medium    40300\n",
            "3 - Low        1166\n",
            "1 - High       1047\n",
            "Name: impact, dtype: int64\n"
          ],
          "name": "stdout"
        }
      ]
    },
    {
      "cell_type": "markdown",
      "metadata": {
        "id": "tT_jaU-kltnz",
        "colab_type": "text"
      },
      "source": [
        "# Dimensionality Reduction LDA"
      ]
    },
    {
      "cell_type": "code",
      "metadata": {
        "id": "ELUcvIOiGmXB",
        "colab_type": "code",
        "colab": {}
      },
      "source": [
        "from sklearn.discriminant_analysis import LinearDiscriminantAnalysis as LDA\n",
        "\n",
        "lda = LDA(n_components=15)\n",
        "X_train = lda.fit_transform(X_train, y_train)\n",
        "X_test = lda.transform(X_test)"
      ],
      "execution_count": 9,
      "outputs": []
    },
    {
      "cell_type": "markdown",
      "metadata": {
        "id": "dDY5lPnViZ4u",
        "colab_type": "text"
      },
      "source": [
        "# Algorithms"
      ]
    },
    {
      "cell_type": "markdown",
      "metadata": {
        "id": "gxUEMPaeLGi5",
        "colab_type": "text"
      },
      "source": [
        "## 1. Decision Tree:"
      ]
    },
    {
      "cell_type": "code",
      "metadata": {
        "id": "tDqXALWdKiDm",
        "colab_type": "code",
        "colab": {
          "base_uri": "https://localhost:8080/",
          "height": 255
        },
        "outputId": "e8bc3ab3-aaac-45ca-87c3-5cb09ef6e54c"
      },
      "source": [
        "from sklearn.tree import DecisionTreeClassifier\n",
        "from sklearn.metrics import accuracy_score, classification_report, confusion_matrix\n",
        "dt = DecisionTreeClassifier(random_state=101)\n",
        "dt.fit(X_train, y_train)\n",
        "y_pred = dt.predict(X_test)\n",
        "print(accuracy_score(y_test, y_pred))\n",
        "print(confusion_matrix(y_test, y_pred))\n",
        "print(classification_report(y_test, y_pred))"
      ],
      "execution_count": 10,
      "outputs": [
        {
          "output_type": "stream",
          "text": [
            "0.9376190812222144\n",
            "[[  330   705    12]\n",
            " [  724 39135   441]\n",
            " [   14   756   396]]\n",
            "              precision    recall  f1-score   support\n",
            "\n",
            "    1 - High       0.31      0.32      0.31      1047\n",
            "  2 - Medium       0.96      0.97      0.97     40300\n",
            "     3 - Low       0.47      0.34      0.39      1166\n",
            "\n",
            "    accuracy                           0.94     42513\n",
            "   macro avg       0.58      0.54      0.56     42513\n",
            "weighted avg       0.93      0.94      0.94     42513\n",
            "\n"
          ],
          "name": "stdout"
        }
      ]
    },
    {
      "cell_type": "markdown",
      "metadata": {
        "id": "PgLoiAgRLXfs",
        "colab_type": "text"
      },
      "source": [
        "## 2. Random Forest:"
      ]
    },
    {
      "cell_type": "code",
      "metadata": {
        "id": "G8oaR4xkLQCe",
        "colab_type": "code",
        "colab": {
          "base_uri": "https://localhost:8080/",
          "height": 255
        },
        "outputId": "ac2c7a8d-d945-4c87-e03f-6f0c696f7943"
      },
      "source": [
        "from sklearn.ensemble import RandomForestClassifier\n",
        "rf = RandomForestClassifier(n_estimators= 500, random_state= 101)\n",
        "rf.fit(X_train,y_train)\n",
        "y_pred = rf.predict(X_test)\n",
        "print(accuracy_score(y_test, y_pred))\n",
        "print(confusion_matrix(y_test, y_pred))\n",
        "print(classification_report(y_test, y_pred))"
      ],
      "execution_count": 11,
      "outputs": [
        {
          "output_type": "stream",
          "text": [
            "0.9506974337261543\n",
            "[[  251   786    10]\n",
            " [  271 39763   266]\n",
            " [   10   753   403]]\n",
            "              precision    recall  f1-score   support\n",
            "\n",
            "    1 - High       0.47      0.24      0.32      1047\n",
            "  2 - Medium       0.96      0.99      0.97     40300\n",
            "     3 - Low       0.59      0.35      0.44      1166\n",
            "\n",
            "    accuracy                           0.95     42513\n",
            "   macro avg       0.68      0.52      0.58     42513\n",
            "weighted avg       0.94      0.95      0.94     42513\n",
            "\n"
          ],
          "name": "stdout"
        }
      ]
    },
    {
      "cell_type": "markdown",
      "metadata": {
        "id": "Q8Quc4eTLdVW",
        "colab_type": "text"
      },
      "source": [
        "## 3.Support Vector Classifier"
      ]
    },
    {
      "cell_type": "code",
      "metadata": {
        "id": "nIcTeFZyLcwY",
        "colab_type": "code",
        "colab": {
          "base_uri": "https://localhost:8080/",
          "height": 255
        },
        "outputId": "71ad1905-de0b-4e78-8f21-e384745b468f"
      },
      "source": [
        "from sklearn.svm import SVC\n",
        "svc_clf = SVC()\n",
        "svc_clf.fit(X_train,y_train)\n",
        "y_pred = svc_clf.predict(X_test)\n",
        "print(accuracy_score(y_test, y_pred))\n",
        "print(confusion_matrix(y_test, y_pred))\n",
        "print(classification_report(y_test, y_pred))"
      ],
      "execution_count": 12,
      "outputs": [
        {
          "output_type": "stream",
          "text": [
            "0.9532143109166608\n",
            "[[  105   939     3]\n",
            " [   29 40201    70]\n",
            " [    6   942   218]]\n",
            "              precision    recall  f1-score   support\n",
            "\n",
            "    1 - High       0.75      0.10      0.18      1047\n",
            "  2 - Medium       0.96      1.00      0.98     40300\n",
            "     3 - Low       0.75      0.19      0.30      1166\n",
            "\n",
            "    accuracy                           0.95     42513\n",
            "   macro avg       0.82      0.43      0.48     42513\n",
            "weighted avg       0.94      0.95      0.94     42513\n",
            "\n"
          ],
          "name": "stdout"
        }
      ]
    },
    {
      "cell_type": "markdown",
      "metadata": {
        "id": "dGwmp977OPxK",
        "colab_type": "text"
      },
      "source": [
        "## 4. Gausian NB"
      ]
    },
    {
      "cell_type": "code",
      "metadata": {
        "id": "ZMliDqnLOTtx",
        "colab_type": "code",
        "colab": {
          "base_uri": "https://localhost:8080/",
          "height": 255
        },
        "outputId": "b94d21b2-d2e5-4374-c132-ea527acf6b8e"
      },
      "source": [
        "from sklearn.naive_bayes import GaussianNB\n",
        "nb = GaussianNB()\n",
        "nb.fit(X_train,y_train)\n",
        "y_pred = nb.predict(X_test)\n",
        "print(accuracy_score(y_test, y_pred))\n",
        "print(confusion_matrix(y_test, y_pred))\n",
        "print(classification_report(y_test, y_pred))"
      ],
      "execution_count": 13,
      "outputs": [
        {
          "output_type": "stream",
          "text": [
            "0.9186131301013808\n",
            "[[  350   660    37]\n",
            " [  662 37812  1826]\n",
            " [   12   263   891]]\n",
            "              precision    recall  f1-score   support\n",
            "\n",
            "    1 - High       0.34      0.33      0.34      1047\n",
            "  2 - Medium       0.98      0.94      0.96     40300\n",
            "     3 - Low       0.32      0.76      0.45      1166\n",
            "\n",
            "    accuracy                           0.92     42513\n",
            "   macro avg       0.55      0.68      0.58     42513\n",
            "weighted avg       0.94      0.92      0.93     42513\n",
            "\n"
          ],
          "name": "stdout"
        }
      ]
    },
    {
      "cell_type": "markdown",
      "metadata": {
        "id": "wTkIhk8XOaeg",
        "colab_type": "text"
      },
      "source": [
        "## 5. KNN"
      ]
    },
    {
      "cell_type": "code",
      "metadata": {
        "id": "kVGCE1CZOV-D",
        "colab_type": "code",
        "colab": {
          "base_uri": "https://localhost:8080/",
          "height": 255
        },
        "outputId": "b3a0c85a-8c2a-426f-ef41-0f28abf2160a"
      },
      "source": [
        "from sklearn.neighbors  import KNeighborsClassifier\n",
        "knn = KNeighborsClassifier(n_neighbors=3)\n",
        "knn.fit(X_train,y_train)\n",
        "y_pred = knn.predict(X_test)\n",
        "print(accuracy_score(y_test, y_pred))\n",
        "print(confusion_matrix(y_test, y_pred))\n",
        "print(classification_report(y_test, y_pred))"
      ],
      "execution_count": 14,
      "outputs": [
        {
          "output_type": "stream",
          "text": [
            "0.9484393009197186\n",
            "[[  310   730     7]\n",
            " [  343 39537   420]\n",
            " [   18   674   474]]\n",
            "              precision    recall  f1-score   support\n",
            "\n",
            "    1 - High       0.46      0.30      0.36      1047\n",
            "  2 - Medium       0.97      0.98      0.97     40300\n",
            "     3 - Low       0.53      0.41      0.46      1166\n",
            "\n",
            "    accuracy                           0.95     42513\n",
            "   macro avg       0.65      0.56      0.60     42513\n",
            "weighted avg       0.94      0.95      0.94     42513\n",
            "\n"
          ],
          "name": "stdout"
        }
      ]
    },
    {
      "cell_type": "markdown",
      "metadata": {
        "id": "qzDMRnY-UsCc",
        "colab_type": "text"
      },
      "source": [
        "#Meta Algorithms"
      ]
    },
    {
      "cell_type": "markdown",
      "metadata": {
        "id": "-xmbp2uSUxSk",
        "colab_type": "text"
      },
      "source": [
        "## 1. Voting Classifier"
      ]
    },
    {
      "cell_type": "code",
      "metadata": {
        "id": "2MozceX0UwQu",
        "colab_type": "code",
        "colab": {
          "base_uri": "https://localhost:8080/",
          "height": 85
        },
        "outputId": "a57a86c5-81dc-4d32-8ba0-22267e0e7b97"
      },
      "source": [
        "from sklearn.ensemble import VotingClassifier\n",
        "nb = GaussianNB()\n",
        "knn = KNeighborsClassifier()\n",
        "dt = DecisionTreeClassifier(random_state=101)\n",
        "# Define a list called classifier that contains the tuples (classifier_name, classifier)\n",
        "classifiers = [('GaussianNB', nb),\n",
        "('K Nearest Neighbours', knn),\n",
        "('Classification Tree', dt)]\n",
        "# Iterate over the defined list of tuples containing the classifiers\n",
        "for clf_name, clf in classifiers:\n",
        "  clf.fit(X_train, y_train)\n",
        "  y_pred = clf.predict(X_test)\n",
        "  print('{:s} : {:.3f}'.format(clf_name, accuracy_score(y_test, y_pred)))\n",
        "\n",
        "vc = VotingClassifier(estimators=classifiers)\n",
        "vc.fit(X_train, y_train)\n",
        "y_pred = vc.predict(X_test)\n",
        "print('Voting Classifier: {:.3f}'.format(accuracy_score(y_test, y_pred)))"
      ],
      "execution_count": 15,
      "outputs": [
        {
          "output_type": "stream",
          "text": [
            "GaussianNB : 0.919\n",
            "K Nearest Neighbours : 0.952\n",
            "Classification Tree : 0.938\n",
            "Voting Classifier: 0.949\n"
          ],
          "name": "stdout"
        }
      ]
    },
    {
      "cell_type": "markdown",
      "metadata": {
        "id": "MKaohBwuWCvv",
        "colab_type": "text"
      },
      "source": [
        "## 2. Bagging Classifier"
      ]
    },
    {
      "cell_type": "code",
      "metadata": {
        "id": "NUWG_7c4U-7M",
        "colab_type": "code",
        "colab": {
          "base_uri": "https://localhost:8080/",
          "height": 34
        },
        "outputId": "3eba6fdf-dc40-474c-8ce7-ff66783ae930"
      },
      "source": [
        "from sklearn.ensemble import BaggingClassifier\n",
        "dt = DecisionTreeClassifier(random_state=101)\n",
        "bc = BaggingClassifier(base_estimator=dt, n_estimators=300, n_jobs=-1)\n",
        "bc.fit(X_train, y_train)\n",
        "y_pred = bc.predict(X_test)\n",
        "accuracy = accuracy_score(y_test, y_pred)\n",
        "print('Accuracy of Bagging Classifier: {:.3f}'.format(accuracy))"
      ],
      "execution_count": 16,
      "outputs": [
        {
          "output_type": "stream",
          "text": [
            "Accuracy of Bagging Classifier: 0.950\n"
          ],
          "name": "stdout"
        }
      ]
    },
    {
      "cell_type": "markdown",
      "metadata": {
        "id": "um-HRTxYXlm2",
        "colab_type": "text"
      },
      "source": [
        "## 3. AdaBoost Classifier"
      ]
    },
    {
      "cell_type": "code",
      "metadata": {
        "id": "pLL3EfMvWJLk",
        "colab_type": "code",
        "colab": {
          "base_uri": "https://localhost:8080/",
          "height": 34
        },
        "outputId": "5db0d15f-db01-450e-c392-ca6a1007bef4"
      },
      "source": [
        "from sklearn.ensemble import AdaBoostClassifier\n",
        "dt = DecisionTreeClassifier(random_state=101)\n",
        "abc = AdaBoostClassifier(base_estimator=dt, n_estimators=50)\n",
        "abc.fit(X_train, y_train)\n",
        "y_pred = bc.predict(X_test)\n",
        "accuracy = accuracy_score(y_test, y_pred)\n",
        "print('Accuracy of Bagging Classifier: {:.3f}'.format(accuracy))"
      ],
      "execution_count": 17,
      "outputs": [
        {
          "output_type": "stream",
          "text": [
            "Accuracy of Bagging Classifier: 0.950\n"
          ],
          "name": "stdout"
        }
      ]
    },
    {
      "cell_type": "markdown",
      "metadata": {
        "id": "uFUM1gWzZP2X",
        "colab_type": "text"
      },
      "source": [
        "## 4. XGBoost Classifier"
      ]
    },
    {
      "cell_type": "code",
      "metadata": {
        "id": "XDq7HPv2XsUE",
        "colab_type": "code",
        "colab": {
          "base_uri": "https://localhost:8080/",
          "height": 34
        },
        "outputId": "41d4c3f3-b60f-4426-f5d3-17e127ff1c0f"
      },
      "source": [
        "from xgboost import XGBClassifier\n",
        "xgb = XGBClassifier()\n",
        "xgb.fit(X_train, y_train)\n",
        "y_pred = xgb.predict(X_test)\n",
        "accuracy = accuracy_score(y_test, y_pred)\n",
        "print('Accuracy of Bagging Classifier: {:.3f}'.format(accuracy))"
      ],
      "execution_count": 18,
      "outputs": [
        {
          "output_type": "stream",
          "text": [
            "Accuracy of Bagging Classifier: 0.953\n"
          ],
          "name": "stdout"
        }
      ]
    },
    {
      "cell_type": "markdown",
      "metadata": {
        "id": "2svVGiUXFKAh",
        "colab_type": "text"
      },
      "source": [
        "# Cross Validation And Hyper Parameter Tuning"
      ]
    },
    {
      "cell_type": "markdown",
      "metadata": {
        "id": "beRiwpNvFSHX",
        "colab_type": "text"
      },
      "source": [
        "## 1. Using Randomized Search cv"
      ]
    },
    {
      "cell_type": "code",
      "metadata": {
        "id": "At0sSQJpFKzD",
        "colab_type": "code",
        "colab": {
          "base_uri": "https://localhost:8080/",
          "height": 119
        },
        "outputId": "2660fff0-836f-4c48-e5a1-25957067e22c"
      },
      "source": [
        "import xgboost as xgb\n",
        "from sklearn.model_selection import RandomizedSearchCV\n",
        "gbm_param_grid = {'learning_rate': np.arange(0.05,1.05,.05),'n_estimators': [100, 200, 300],'max_depth': range(1,10)}\n",
        "gbm = xgb.XGBClassifier()\n",
        "randomized_cv = RandomizedSearchCV(estimator=gbm, param_distributions=gbm_param_grid, n_iter=25,random_state=101, cv=4, verbose=1, n_jobs=-1)\n",
        "randomized_cv.fit(X_train, y_train)\n",
        "print(\"Best parameters found: \",randomized_cv.best_params_)\n",
        "print(\"Best Score found: \", np.sqrt(np.abs(randomized_cv.best_score_)))"
      ],
      "execution_count": 19,
      "outputs": [
        {
          "output_type": "stream",
          "text": [
            "Fitting 4 folds for each of 25 candidates, totalling 100 fits\n"
          ],
          "name": "stdout"
        },
        {
          "output_type": "stream",
          "text": [
            "[Parallel(n_jobs=-1)]: Using backend LokyBackend with 2 concurrent workers.\n",
            "[Parallel(n_jobs=-1)]: Done  46 tasks      | elapsed: 14.0min\n",
            "[Parallel(n_jobs=-1)]: Done 100 out of 100 | elapsed: 31.5min finished\n"
          ],
          "name": "stderr"
        },
        {
          "output_type": "stream",
          "text": [
            "Best parameters found:  {'n_estimators': 100, 'max_depth': 7, 'learning_rate': 0.05}\n",
            "Best Score found:  0.9770745552016705\n"
          ],
          "name": "stdout"
        }
      ]
    },
    {
      "cell_type": "markdown",
      "metadata": {
        "id": "iR4k2LQfOfPV",
        "colab_type": "text"
      },
      "source": [
        "## 2. Using GridSearch CV"
      ]
    },
    {
      "cell_type": "code",
      "metadata": {
        "id": "h_ZFV5UtOjtd",
        "colab_type": "code",
        "colab": {
          "base_uri": "https://localhost:8080/",
          "height": 102
        },
        "outputId": "2b89a3b7-8040-474c-fc6e-e1aecdbb290d"
      },
      "source": [
        "import xgboost as xgb\n",
        "from sklearn.model_selection import GridSearchCV\n",
        "gbm_param_grid = {'learning_rate': [0.05],'n_estimators': [50, 100, 150],'max_depth': [6, 7, 8]}\n",
        "gbm = xgb.XGBClassifier()\n",
        "grid_cv = GridSearchCV(estimator=gbm, param_grid=gbm_param_grid, cv=4, verbose=1, n_jobs=-1)\n",
        "grid_cv.fit(X_train, y_train)\n",
        "print(\"Best parameters found: \",grid_cv.best_params_)\n",
        "print(\"Best Score found: \", np.sqrt(np.abs(grid_cv.best_score_)))"
      ],
      "execution_count": 20,
      "outputs": [
        {
          "output_type": "stream",
          "text": [
            "Fitting 4 folds for each of 9 candidates, totalling 36 fits\n"
          ],
          "name": "stdout"
        },
        {
          "output_type": "stream",
          "text": [
            "[Parallel(n_jobs=-1)]: Using backend LokyBackend with 2 concurrent workers.\n",
            "[Parallel(n_jobs=-1)]: Done  36 out of  36 | elapsed:  6.8min finished\n"
          ],
          "name": "stderr"
        },
        {
          "output_type": "stream",
          "text": [
            "Best parameters found:  {'learning_rate': 0.05, 'max_depth': 8, 'n_estimators': 100}\n",
            "Best Score found:  0.9771519348716857\n"
          ],
          "name": "stdout"
        }
      ]
    }
  ]
}